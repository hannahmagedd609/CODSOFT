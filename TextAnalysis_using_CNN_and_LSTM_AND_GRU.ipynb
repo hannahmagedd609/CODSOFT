{
  "metadata": {
    "kernelspec": {
      "display_name": "Python 3",
      "name": "python3"
    },
    "language_info": {
      "pygments_lexer": "ipython3",
      "nbconvert_exporter": "python",
      "version": "3.6.4",
      "file_extension": ".py",
      "codemirror_mode": {
        "name": "ipython",
        "version": 3
      },
      "name": "python",
      "mimetype": "text/x-python"
    },
    "colab": {
      "provenance": [],
      "gpuType": "T4"
    },
    "accelerator": "GPU"
  },
  "nbformat_minor": 0,
  "nbformat": 4,
  "cells": [
    {
      "cell_type": "code",
      "source": [
        "#Import the required libraries\n",
        "import numpy as np\n",
        "import pandas as pd\n",
        "from sklearn.model_selection import train_test_split\n",
        "from tensorflow.keras.models import Sequential\n",
        "from tensorflow.keras.layers import Embedding, Bidirectional, GRU, Conv1D, GlobalMaxPooling1D, Dense, Dropout , LSTM\n",
        "from tensorflow.keras.optimizers import Adam\n",
        "from tensorflow.keras.callbacks import EarlyStopping\n",
        "from tensorflow.keras.preprocessing.text import Tokenizer\n",
        "from tensorflow.keras.preprocessing.sequence import pad_sequences\n",
        "import nltk\n",
        "import os\n",
        "import warnings\n",
        "import matplotlib.pyplot as plt\n",
        "import seaborn as sns\n",
        "import gensim\n",
        "from gensim.models import Word2Vec\n",
        "from gensim.models import KeyedVectors\n",
        "import tensorflow as tf\n",
        "import re\n",
        "import pandas as pd\n",
        "import numpy as np\n",
        "from sklearn.model_selection import train_test_split\n",
        "from tensorflow.keras.preprocessing.text import Tokenizer\n",
        "from tensorflow.keras.preprocessing.sequence import pad_sequences\n",
        "from tensorflow.keras.models import Sequential\n",
        "from tensorflow.keras.layers import Dense, Embedding, Bidirectional, GRU, Conv1D, MaxPooling1D, Dropout, GlobalMaxPooling1D\n",
        "from tensorflow.keras.optimizers import Adam\n",
        "from tensorflow.keras.regularizers import l2\n",
        "from tensorflow.keras.callbacks import EarlyStopping\n",
        "from nltk.corpus import stopwords\n",
        "from nltk.tokenize import word_tokenize\n",
        "import nltk\n",
        "from tensorflow.keras.optimizers import legacy\n"
      ],
      "metadata": {
        "execution": {
          "iopub.status.busy": "2023-05-10T07:42:14.817167Z",
          "iopub.execute_input": "2023-05-10T07:42:14.817835Z",
          "iopub.status.idle": "2023-05-10T07:42:27.101431Z",
          "shell.execute_reply.started": "2023-05-10T07:42:14.817790Z",
          "shell.execute_reply": "2023-05-10T07:42:27.100161Z"
        },
        "trusted": true,
        "id": "1RyG8-yogorn"
      },
      "execution_count": 1,
      "outputs": []
    },
    {
      "cell_type": "code",
      "source": [
        "print(tf.test.gpu_device_name())\n"
      ],
      "metadata": {
        "execution": {
          "iopub.status.busy": "2023-05-10T07:26:28.081672Z",
          "iopub.execute_input": "2023-05-10T07:26:28.083210Z",
          "iopub.status.idle": "2023-05-10T07:26:30.224387Z",
          "shell.execute_reply.started": "2023-05-10T07:26:28.083153Z",
          "shell.execute_reply": "2023-05-10T07:26:30.223069Z"
        },
        "trusted": true,
        "colab": {
          "base_uri": "https://localhost:8080/"
        },
        "id": "UPdxgvRvgoro",
        "outputId": "33c3d21b-0cca-4fa0-ed9f-27da05582d92"
      },
      "execution_count": 2,
      "outputs": [
        {
          "output_type": "stream",
          "name": "stdout",
          "text": [
            "/device:GPU:0\n"
          ]
        }
      ]
    },
    {
      "cell_type": "code",
      "source": [
        "imdb = pd.read_csv(\"/content/IMDB Dataset.csv\")"
      ],
      "metadata": {
        "execution": {
          "iopub.status.busy": "2023-05-10T07:26:40.911639Z",
          "iopub.execute_input": "2023-05-10T07:26:40.912364Z",
          "iopub.status.idle": "2023-05-10T07:26:42.312815Z",
          "shell.execute_reply.started": "2023-05-10T07:26:40.912323Z",
          "shell.execute_reply": "2023-05-10T07:26:42.311729Z"
        },
        "trusted": true,
        "id": "NiVLyQ0ogorq"
      },
      "execution_count": 3,
      "outputs": []
    },
    {
      "cell_type": "code",
      "source": [
        "imdb.drop_duplicates(inplace=True)"
      ],
      "metadata": {
        "execution": {
          "iopub.status.busy": "2023-05-10T07:26:42.687468Z",
          "iopub.execute_input": "2023-05-10T07:26:42.687899Z",
          "iopub.status.idle": "2023-05-10T07:26:42.867740Z",
          "shell.execute_reply.started": "2023-05-10T07:26:42.687861Z",
          "shell.execute_reply": "2023-05-10T07:26:42.866738Z"
        },
        "trusted": true,
        "id": "boGsG8SNgorr"
      },
      "execution_count": 4,
      "outputs": []
    },
    {
      "cell_type": "code",
      "source": [
        "nltk.download('stopwords')\n",
        "nltk.download('punkt')\n"
      ],
      "metadata": {
        "execution": {
          "iopub.status.busy": "2023-05-10T07:26:43.039703Z",
          "iopub.execute_input": "2023-05-10T07:26:43.040067Z",
          "iopub.status.idle": "2023-05-10T07:26:43.191244Z",
          "shell.execute_reply.started": "2023-05-10T07:26:43.040034Z",
          "shell.execute_reply": "2023-05-10T07:26:43.190158Z"
        },
        "trusted": true,
        "colab": {
          "base_uri": "https://localhost:8080/"
        },
        "id": "HAoJqUVugors",
        "outputId": "f05884ac-7b68-473f-9569-6a18c210a415"
      },
      "execution_count": 5,
      "outputs": [
        {
          "output_type": "stream",
          "name": "stderr",
          "text": [
            "[nltk_data] Downloading package stopwords to /root/nltk_data...\n",
            "[nltk_data]   Package stopwords is already up-to-date!\n",
            "[nltk_data] Downloading package punkt to /root/nltk_data...\n",
            "[nltk_data]   Package punkt is already up-to-date!\n"
          ]
        },
        {
          "output_type": "execute_result",
          "data": {
            "text/plain": [
              "True"
            ]
          },
          "metadata": {},
          "execution_count": 5
        }
      ]
    },
    {
      "cell_type": "code",
      "source": [
        "texts = imdb['review'].values\n",
        "labels = imdb['sentiment'].values"
      ],
      "metadata": {
        "execution": {
          "iopub.status.busy": "2023-05-10T07:26:44.926490Z",
          "iopub.execute_input": "2023-05-10T07:26:44.927230Z",
          "iopub.status.idle": "2023-05-10T07:26:44.932426Z",
          "shell.execute_reply.started": "2023-05-10T07:26:44.927189Z",
          "shell.execute_reply": "2023-05-10T07:26:44.931166Z"
        },
        "trusted": true,
        "id": "RTXjyWiFgort"
      },
      "execution_count": 6,
      "outputs": []
    },
    {
      "cell_type": "code",
      "source": [
        "# Preprocess the reviews\n",
        "stop_words = set(stopwords.words('english'))\n",
        "processed_texts = []\n",
        "\n",
        "for text in texts:\n",
        "    # Remove HTML tags\n",
        "    text = re.sub(r'<.*?>', '', text)\n",
        "\n",
        "    # Remove special characters, URLs, and email addresses\n",
        "    text = re.sub(r\"[^a-zA-Z0-9]+\", ' ', text)\n",
        "    text = re.sub(r'http\\S+', '', text)\n",
        "    text = re.sub(r'\\S+@\\S+', '', text)\n",
        "\n",
        "    # Remove numbers\n",
        "    text = re.sub(r\"\\d+\", \"\", text)\n",
        "\n",
        "    # Convert to lower case and tokenize\n",
        "    text = word_tokenize(text.lower())\n",
        "\n",
        "    # Remove stop words\n",
        "    text = [word for word in text if not word in stop_words]\n",
        "\n",
        "    # Remove repeated characters and single characters\n",
        "    processed_text = []\n",
        "\n",
        "    for word in text:\n",
        "        word = re.sub(r'\\b(\\w*?)(\\w)\\2+(\\w*?\\b|\\b)', r'\\1\\2\\3', word)\n",
        "        if len(word) > 1:\n",
        "            processed_text.append(word)\n",
        "    processed_texts.append(' '.join(processed_text))\n"
      ],
      "metadata": {
        "execution": {
          "iopub.status.busy": "2023-05-10T07:26:45.454743Z",
          "iopub.execute_input": "2023-05-10T07:26:45.455121Z",
          "iopub.status.idle": "2023-05-10T07:28:52.586321Z",
          "shell.execute_reply.started": "2023-05-10T07:26:45.455088Z",
          "shell.execute_reply": "2023-05-10T07:28:52.585246Z"
        },
        "trusted": true,
        "id": "6Thddkmggoru"
      },
      "execution_count": 7,
      "outputs": []
    },
    {
      "cell_type": "code",
      "source": [
        "max_words = 10000\n",
        "max_length = 500\n",
        "tokenizer = Tokenizer(num_words=max_words)\n",
        "tokenizer.fit_on_texts(processed_texts)\n",
        "sequences = tokenizer.texts_to_sequences(processed_texts)\n",
        "X = pad_sequences(sequences, maxlen=max_length)\n",
        "y = np.array(imdb['sentiment'].map({'positive': 1, 'negative': 0}))"
      ],
      "metadata": {
        "execution": {
          "iopub.status.busy": "2023-05-10T07:28:52.588663Z",
          "iopub.execute_input": "2023-05-10T07:28:52.589071Z",
          "iopub.status.idle": "2023-05-10T07:29:02.734872Z",
          "shell.execute_reply.started": "2023-05-10T07:28:52.589031Z",
          "shell.execute_reply": "2023-05-10T07:29:02.733743Z"
        },
        "trusted": true,
        "id": "97CMOejRgorv"
      },
      "execution_count": 8,
      "outputs": []
    },
    {
      "cell_type": "code",
      "source": [
        "\n",
        "\n",
        "# Split the data into training and testing sets\n",
        "X_train, X_test, y_train, y_test = train_test_split(X, y, test_size=0.2, random_state=42)"
      ],
      "metadata": {
        "execution": {
          "iopub.status.busy": "2023-05-10T07:29:02.736622Z",
          "iopub.execute_input": "2023-05-10T07:29:02.737076Z",
          "iopub.status.idle": "2023-05-10T07:29:02.782055Z",
          "shell.execute_reply.started": "2023-05-10T07:29:02.737031Z",
          "shell.execute_reply": "2023-05-10T07:29:02.780952Z"
        },
        "trusted": true,
        "id": "SaaPGA1xgorv"
      },
      "execution_count": 9,
      "outputs": []
    },
    {
      "cell_type": "code",
      "source": [
        "with tf.device('/GPU:0'):\n",
        "\n",
        "    # Build the neural network\n",
        "    model = Sequential([\n",
        "        Embedding(input_dim=10000, output_dim=128, input_length=500),\n",
        "        #GRU(10, return_sequences=True, dropout=0.2, recurrent_dropout=0.2),\n",
        "        #Bidirectional(GRU(128, return_sequences=True, dropout=0.2, recurrent_dropout=0.2)),\n",
        "        #Bidirectional(LSTM(128, return_sequences=True, dropout=0.2, recurrent_dropout=0.2)),\n",
        "\n",
        "        Conv1D(128, 5, activation='relu'),\n",
        "        Conv1D(128, 5, activation='relu'),\n",
        "        GlobalMaxPooling1D(),\n",
        "        Dense(128, activation='relu'),\n",
        "        Dropout(0.5),\n",
        "        Dense(1, activation='sigmoid')])\n",
        "\n",
        "# Compile the model\n",
        "    optimizer = Adam(learning_rate=0.001)\n",
        "    model.compile(loss='binary_crossentropy', optimizer=optimizer, metrics=['accuracy'])\n",
        "    model.summary()\n",
        "    # Train the model\n",
        "    early_stopping = EarlyStopping(patience=3)\n",
        "    model.fit(X_train, y_train, epochs=20, batch_size=128, validation_split=0.1, callbacks=[early_stopping])\n",
        "    _, accuracy = model.evaluate(X_test, y_test)\n",
        "    print(f\"Test accuracy: {accuracy}\")\n"
      ],
      "metadata": {
        "execution": {
          "iopub.status.busy": "2023-05-10T07:53:28.853462Z",
          "iopub.execute_input": "2023-05-10T07:53:28.853999Z",
          "iopub.status.idle": "2023-05-10T11:32:31.215463Z",
          "shell.execute_reply.started": "2023-05-10T07:53:28.853959Z",
          "shell.execute_reply": "2023-05-10T11:32:31.214223Z"
        },
        "trusted": true,
        "colab": {
          "base_uri": "https://localhost:8080/",
          "height": 1000
        },
        "id": "oheeFTmSgorx",
        "outputId": "b7d33110-3f19-46b3-f292-4fc1a30eddd7"
      },
      "execution_count": 12,
      "outputs": [
        {
          "output_type": "stream",
          "name": "stdout",
          "text": [
            "Model: \"sequential_2\"\n",
            "_________________________________________________________________\n",
            " Layer (type)                Output Shape              Param #   \n",
            "=================================================================\n",
            " embedding_2 (Embedding)     (None, 500, 128)          1280000   \n",
            "                                                                 \n",
            " conv1d_4 (Conv1D)           (None, 496, 128)          82048     \n",
            "                                                                 \n",
            " conv1d_5 (Conv1D)           (None, 492, 128)          82048     \n",
            "                                                                 \n",
            " conv1d_6 (Conv1D)           (None, 488, 128)          82048     \n",
            "                                                                 \n",
            " conv1d_7 (Conv1D)           (None, 484, 128)          82048     \n",
            "                                                                 \n",
            " global_max_pooling1d_2 (Gl  (None, 128)               0         \n",
            " obalMaxPooling1D)                                               \n",
            "                                                                 \n",
            " dense_4 (Dense)             (None, 128)               16512     \n",
            "                                                                 \n",
            " dropout_2 (Dropout)         (None, 128)               0         \n",
            "                                                                 \n",
            " dense_5 (Dense)             (None, 1)                 129       \n",
            "                                                                 \n",
            "=================================================================\n",
            "Total params: 1624833 (6.20 MB)\n",
            "Trainable params: 1624833 (6.20 MB)\n",
            "Non-trainable params: 0 (0.00 Byte)\n",
            "_________________________________________________________________\n",
            "Epoch 1/20\n",
            "279/279 [==============================] - 54s 182ms/step - loss: 0.4489 - accuracy: 0.7681 - val_loss: 0.3188 - val_accuracy: 0.8631\n",
            "Epoch 2/20\n",
            "279/279 [==============================] - 37s 134ms/step - loss: 0.2422 - accuracy: 0.9053 - val_loss: 0.3090 - val_accuracy: 0.8719\n",
            "Epoch 3/20\n",
            "279/279 [==============================] - 32s 114ms/step - loss: 0.1608 - accuracy: 0.9401 - val_loss: 0.3662 - val_accuracy: 0.8606\n",
            "Epoch 4/20\n",
            "279/279 [==============================] - 24s 87ms/step - loss: 0.0963 - accuracy: 0.9661 - val_loss: 0.4766 - val_accuracy: 0.8586\n",
            "Epoch 5/20\n",
            "279/279 [==============================] - 21s 75ms/step - loss: 0.0584 - accuracy: 0.9804 - val_loss: 0.6023 - val_accuracy: 0.8571\n",
            "310/310 [==============================] - 2s 7ms/step - loss: 0.5779 - accuracy: 0.8616\n",
            "Test accuracy: 0.8615508675575256\n"
          ]
        },
        {
          "output_type": "error",
          "ename": "TypeError",
          "evalue": "ignored",
          "traceback": [
            "\u001b[0;31m---------------------------------------------------------------------------\u001b[0m",
            "\u001b[0;31mTypeError\u001b[0m                                 Traceback (most recent call last)",
            "\u001b[0;32m<ipython-input-12-aba3414d4a9e>\u001b[0m in \u001b[0;36m<cell line: 1>\u001b[0;34m()\u001b[0m\n\u001b[1;32m     25\u001b[0m     \u001b[0m_\u001b[0m\u001b[0;34m,\u001b[0m \u001b[0maccuracy\u001b[0m \u001b[0;34m=\u001b[0m \u001b[0mmodel\u001b[0m\u001b[0;34m.\u001b[0m\u001b[0mevaluate\u001b[0m\u001b[0;34m(\u001b[0m\u001b[0mX_test\u001b[0m\u001b[0;34m,\u001b[0m \u001b[0my_test\u001b[0m\u001b[0;34m)\u001b[0m\u001b[0;34m\u001b[0m\u001b[0;34m\u001b[0m\u001b[0m\n\u001b[1;32m     26\u001b[0m     \u001b[0mprint\u001b[0m\u001b[0;34m(\u001b[0m\u001b[0;34mf\"Test accuracy: {accuracy}\"\u001b[0m\u001b[0;34m)\u001b[0m\u001b[0;34m\u001b[0m\u001b[0;34m\u001b[0m\u001b[0m\n\u001b[0;32m---> 27\u001b[0;31m     \u001b[0mmodel\u001b[0m\u001b[0;34m.\u001b[0m\u001b[0mpredict\u001b[0m\u001b[0;34m(\u001b[0m\u001b[0;34m)\u001b[0m\u001b[0;34m\u001b[0m\u001b[0;34m\u001b[0m\u001b[0m\n\u001b[0m",
            "\u001b[0;32m/usr/local/lib/python3.10/dist-packages/keras/src/utils/traceback_utils.py\u001b[0m in \u001b[0;36merror_handler\u001b[0;34m(*args, **kwargs)\u001b[0m\n\u001b[1;32m     68\u001b[0m             \u001b[0;31m# To get the full stack trace, call:\u001b[0m\u001b[0;34m\u001b[0m\u001b[0;34m\u001b[0m\u001b[0m\n\u001b[1;32m     69\u001b[0m             \u001b[0;31m# `tf.debugging.disable_traceback_filtering()`\u001b[0m\u001b[0;34m\u001b[0m\u001b[0;34m\u001b[0m\u001b[0m\n\u001b[0;32m---> 70\u001b[0;31m             \u001b[0;32mraise\u001b[0m \u001b[0me\u001b[0m\u001b[0;34m.\u001b[0m\u001b[0mwith_traceback\u001b[0m\u001b[0;34m(\u001b[0m\u001b[0mfiltered_tb\u001b[0m\u001b[0;34m)\u001b[0m \u001b[0;32mfrom\u001b[0m \u001b[0;32mNone\u001b[0m\u001b[0;34m\u001b[0m\u001b[0;34m\u001b[0m\u001b[0m\n\u001b[0m\u001b[1;32m     71\u001b[0m         \u001b[0;32mfinally\u001b[0m\u001b[0;34m:\u001b[0m\u001b[0;34m\u001b[0m\u001b[0;34m\u001b[0m\u001b[0m\n\u001b[1;32m     72\u001b[0m             \u001b[0;32mdel\u001b[0m \u001b[0mfiltered_tb\u001b[0m\u001b[0;34m\u001b[0m\u001b[0;34m\u001b[0m\u001b[0m\n",
            "\u001b[0;32m/usr/local/lib/python3.10/dist-packages/keras/src/utils/traceback_utils.py\u001b[0m in \u001b[0;36merror_handler\u001b[0;34m(*args, **kwargs)\u001b[0m\n\u001b[1;32m     63\u001b[0m         \u001b[0mfiltered_tb\u001b[0m \u001b[0;34m=\u001b[0m \u001b[0;32mNone\u001b[0m\u001b[0;34m\u001b[0m\u001b[0;34m\u001b[0m\u001b[0m\n\u001b[1;32m     64\u001b[0m         \u001b[0;32mtry\u001b[0m\u001b[0;34m:\u001b[0m\u001b[0;34m\u001b[0m\u001b[0;34m\u001b[0m\u001b[0m\n\u001b[0;32m---> 65\u001b[0;31m             \u001b[0;32mreturn\u001b[0m \u001b[0mfn\u001b[0m\u001b[0;34m(\u001b[0m\u001b[0;34m*\u001b[0m\u001b[0margs\u001b[0m\u001b[0;34m,\u001b[0m \u001b[0;34m**\u001b[0m\u001b[0mkwargs\u001b[0m\u001b[0;34m)\u001b[0m\u001b[0;34m\u001b[0m\u001b[0;34m\u001b[0m\u001b[0m\n\u001b[0m\u001b[1;32m     66\u001b[0m         \u001b[0;32mexcept\u001b[0m \u001b[0mException\u001b[0m \u001b[0;32mas\u001b[0m \u001b[0me\u001b[0m\u001b[0;34m:\u001b[0m\u001b[0;34m\u001b[0m\u001b[0;34m\u001b[0m\u001b[0m\n\u001b[1;32m     67\u001b[0m             \u001b[0mfiltered_tb\u001b[0m \u001b[0;34m=\u001b[0m \u001b[0m_process_traceback_frames\u001b[0m\u001b[0;34m(\u001b[0m\u001b[0me\u001b[0m\u001b[0;34m.\u001b[0m\u001b[0m__traceback__\u001b[0m\u001b[0;34m)\u001b[0m\u001b[0;34m\u001b[0m\u001b[0;34m\u001b[0m\u001b[0m\n",
            "\u001b[0;31mTypeError\u001b[0m: Model.predict() missing 1 required positional argument: 'x'"
          ]
        }
      ]
    },
    {
      "cell_type": "code",
      "source": [
        "with tf.device('/GPU:0'):\n",
        "\n",
        "    # Build the neural network\n",
        "    model = Sequential([\n",
        "        Embedding(input_dim=10000, output_dim=128, input_length=500),\n",
        "        #GRU(10, return_sequences=True, dropout=0.2, recurrent_dropout=0.2),\n",
        "        #Bidirectional(GRU(128, return_sequences=True, dropout=0.2, recurrent_dropout=0.2)),\n",
        "        #Bidirectional(LSTM(128, return_sequences=True, dropout=0.2, recurrent_dropout=0.2)),\n",
        "        Conv1D(128, 5, activation='relu'),\n",
        "        Conv1D(128, 5, activation='relu'),\n",
        "        Conv1D(128, 5, activation='relu'),\n",
        "        Conv1D(128, 5, activation='relu'),\n",
        "        GlobalMaxPooling1D(),\n",
        "        Dense(128, activation='relu'),\n",
        "        Dropout(0.5),\n",
        "        Dense(1, activation='sigmoid')])\n",
        "\n",
        "# Compile the model\n",
        "    optimizer = Adam(learning_rate=0.001)\n",
        "    model.compile(loss='binary_crossentropy', optimizer=optimizer, metrics=['accuracy'])\n",
        "    model.summary()\n",
        "    # Train the model\n",
        "    early_stopping = EarlyStopping(patience=3)\n",
        "    model.fit(X_train, y_train, epochs=20, batch_size=128, validation_split=0.1, callbacks=[early_stopping])\n",
        "    _, accuracy = model.evaluate(X_test, y_test)\n",
        "    print(f\"Test accuracy: {accuracy}\")\n",
        "    model.predict()"
      ],
      "metadata": {
        "id": "QS1p_cwP4F6x"
      },
      "execution_count": null,
      "outputs": []
    },
    {
      "cell_type": "code",
      "source": [
        "with tf.device('/GPU:0'):\n",
        "\n",
        "    # Build the neural network\n",
        "    model = Sequential([\n",
        "        Embedding(input_dim=10000, output_dim=128, input_length=500),\n",
        "        GRU(128, return_sequences=True, dropout=0.2, recurrent_dropout=0.2),\n",
        "        #Bidirectional(GRU(128, return_sequences=True, dropout=0.2, recurrent_dropout=0.2)),\n",
        "        #Bidirectional(LSTM(128, return_sequences=True, dropout=0.2, recurrent_dropout=0.2)),\n",
        "        Conv1D(128, 5, activation='relu'),\n",
        "        Conv1D(128, 5, activation='relu'),\n",
        "        GlobalMaxPooling1D(),\n",
        "        Dense(128, activation='relu'),\n",
        "        Dropout(0.5),\n",
        "        Dense(1, activation='sigmoid')])\n",
        "\n",
        "# Compile the model\n",
        "    optimizer = Adam(learning_rate=0.001)\n",
        "    model.compile(loss='binary_crossentropy', optimizer=optimizer, metrics=['accuracy'])\n",
        "    model.summary()\n",
        "    # Train the model\n",
        "    early_stopping = EarlyStopping(patience=3)\n",
        "    model.fit(X_train, y_train, epochs=2, batch_size=128, validation_split=0.1, callbacks=[early_stopping])\n",
        "    _, accuracy = model.evaluate(X_test, y_test)\n",
        "    print(f\"Test accuracy: {accuracy}\")"
      ],
      "metadata": {
        "colab": {
          "base_uri": "https://localhost:8080/"
        },
        "id": "Udv46-twgorx",
        "outputId": "fafab9eb-7db0-4a92-9112-fd3568376491"
      },
      "execution_count": 11,
      "outputs": [
        {
          "output_type": "stream",
          "name": "stderr",
          "text": [
            "WARNING:tensorflow:Layer gru will not use cuDNN kernels since it doesn't meet the criteria. It will use a generic GPU kernel as fallback when running on GPU.\n"
          ]
        },
        {
          "output_type": "stream",
          "name": "stdout",
          "text": [
            "Model: \"sequential_1\"\n",
            "_________________________________________________________________\n",
            " Layer (type)                Output Shape              Param #   \n",
            "=================================================================\n",
            " embedding_1 (Embedding)     (None, 500, 128)          1280000   \n",
            "                                                                 \n",
            " gru (GRU)                   (None, 500, 128)          99072     \n",
            "                                                                 \n",
            " conv1d_2 (Conv1D)           (None, 496, 128)          82048     \n",
            "                                                                 \n",
            " conv1d_3 (Conv1D)           (None, 492, 128)          82048     \n",
            "                                                                 \n",
            " global_max_pooling1d_1 (Gl  (None, 128)               0         \n",
            " obalMaxPooling1D)                                               \n",
            "                                                                 \n",
            " dense_2 (Dense)             (None, 128)               16512     \n",
            "                                                                 \n",
            " dropout_1 (Dropout)         (None, 128)               0         \n",
            "                                                                 \n",
            " dense_3 (Dense)             (None, 1)                 129       \n",
            "                                                                 \n",
            "=================================================================\n",
            "Total params: 1559809 (5.95 MB)\n",
            "Trainable params: 1559809 (5.95 MB)\n",
            "Non-trainable params: 0 (0.00 Byte)\n",
            "_________________________________________________________________\n",
            "Epoch 1/2\n",
            "279/279 [==============================] - 664s 2s/step - loss: 0.4117 - accuracy: 0.7979 - val_loss: 0.3353 - val_accuracy: 0.8606\n",
            "Epoch 2/2\n",
            "279/279 [==============================] - 621s 2s/step - loss: 0.2386 - accuracy: 0.9058 - val_loss: 0.3251 - val_accuracy: 0.8704\n",
            "310/310 [==============================] - 47s 153ms/step - loss: 0.3239 - accuracy: 0.8702\n",
            "Test accuracy: 0.8702228665351868\n"
          ]
        }
      ]
    }
  ]
}